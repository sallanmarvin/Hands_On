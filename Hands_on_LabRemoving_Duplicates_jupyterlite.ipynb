{
  "cells": [
    {
      "cell_type": "markdown",
      "metadata": {
        "id": "view-in-github",
        "colab_type": "text"
      },
      "source": [
        "<a href=\"https://colab.research.google.com/github/sallanmarvin/Hands_On/blob/main/Hands_on_LabRemoving_Duplicates_jupyterlite.ipynb\" target=\"_parent\"><img src=\"https://colab.research.google.com/assets/colab-badge.svg\" alt=\"Open In Colab\"/></a>"
      ]
    },
    {
      "cell_type": "markdown",
      "metadata": {
        "id": "595c4424-6dcb-491e-aecd-ac830c71a393"
      },
      "source": [
        "## Objectives\n"
      ]
    },
    {
      "cell_type": "markdown",
      "metadata": {
        "id": "2e0b98e7-c074-47d7-8fc0-61286f3031aa"
      },
      "source": [
        "In this lab you will perform the following:\n"
      ]
    },
    {
      "cell_type": "markdown",
      "metadata": {
        "id": "2b8be0a5-d65c-43c0-af2c-fb6e8e9251f3"
      },
      "source": [
        "1. Identify duplicate rows  in the dataset.\n",
        "2. Use suitable techniques to remove duplicate rows and verify the removal.\n",
        "3. Summarize how to handle missing values appropriately.\n",
        "4. Use ConvertedCompYearly to normalize compensation data.\n",
        "   \n"
      ]
    },
    {
      "cell_type": "markdown",
      "metadata": {
        "id": "47ef63f6-5f6f-429a-9776-d3d9acc1a432"
      },
      "source": [
        "### Install the Required Libraries\n"
      ]
    },
    {
      "cell_type": "code",
      "metadata": {
        "colab": {
          "base_uri": "https://localhost:8080/"
        },
        "id": "64a7efff-df6d-45b7-a0e5-b57e2c098c80",
        "outputId": "5621e092-f84f-4505-9e50-4e491e498f37"
      },
      "outputs": [
        {
          "output_type": "stream",
          "name": "stdout",
          "text": [
            "Requirement already satisfied: pandas in /usr/local/lib/python3.11/dist-packages (2.2.2)\n",
            "Requirement already satisfied: numpy>=1.23.2 in /usr/local/lib/python3.11/dist-packages (from pandas) (2.0.2)\n",
            "Requirement already satisfied: python-dateutil>=2.8.2 in /usr/local/lib/python3.11/dist-packages (from pandas) (2.8.2)\n",
            "Requirement already satisfied: pytz>=2020.1 in /usr/local/lib/python3.11/dist-packages (from pandas) (2025.2)\n",
            "Requirement already satisfied: tzdata>=2022.7 in /usr/local/lib/python3.11/dist-packages (from pandas) (2025.2)\n",
            "Requirement already satisfied: six>=1.5 in /usr/local/lib/python3.11/dist-packages (from python-dateutil>=2.8.2->pandas) (1.17.0)\n"
          ]
        }
      ],
      "source": [
        "!pip install pandas"
      ],
      "execution_count": 1
    },
    {
      "cell_type": "markdown",
      "metadata": {
        "id": "0e2694af-c2e4-4755-a900-efc385425f1f"
      },
      "source": [
        "### Step 1: Import Required Libraries\n"
      ]
    },
    {
      "cell_type": "code",
      "metadata": {
        "id": "32ff93ab-d691-4619-b164-77f8f4b8afd0"
      },
      "outputs": [],
      "source": [
        "import pandas as pd"
      ],
      "execution_count": 2
    },
    {
      "cell_type": "code",
      "source": [
        "df = pd.read_csv(\"https://cf-courses-data.s3.us.cloud-object-storage.appdomain.cloud/n01PQ9pSmiRX6520flujwQ/survey-data.csv\")"
      ],
      "metadata": {
        "id": "lgIFwNiUqJJM"
      },
      "execution_count": 5,
      "outputs": []
    },
    {
      "cell_type": "markdown",
      "metadata": {
        "id": "f0a26da2-5e8e-40b5-aa77-e3572a408466"
      },
      "source": [
        "### Step 2: Load the Dataset into a DataFrame\n"
      ]
    },
    {
      "cell_type": "code",
      "source": [],
      "metadata": {
        "id": "H5oEioC4q47p"
      },
      "execution_count": null,
      "outputs": []
    },
    {
      "cell_type": "markdown",
      "metadata": {
        "id": "33d89389-bc92-4957-a7e8-3940a651b158"
      },
      "source": [
        "#### **Read Data**\n"
      ]
    },
    {
      "cell_type": "markdown",
      "metadata": {
        "id": "a0036976-1f29-4986-a7bc-e025b19b4b84"
      },
      "source": [
        "If you are using JupyterLite, use the code below to download the dataset into your environment. If you are using a local environment, you can use the direct URL with <code>pd.read_csv()</code>.\n"
      ]
    },
    {
      "cell_type": "code",
      "metadata": {
        "colab": {
          "base_uri": "https://localhost:8080/",
          "height": 515
        },
        "id": "84381dc9-7d78-4399-9733-2845bf533498",
        "outputId": "a0141fd3-05f6-4609-eb21-feefc3f781fe"
      },
      "outputs": [
        {
          "output_type": "execute_result",
          "data": {
            "text/plain": [
              "   ResponseId                      MainBranch                 Age  \\\n",
              "0           1  I am a developer by profession  Under 18 years old   \n",
              "1           2  I am a developer by profession     35-44 years old   \n",
              "2           3  I am a developer by profession     45-54 years old   \n",
              "3           4           I am learning to code     18-24 years old   \n",
              "4           5  I am a developer by profession     18-24 years old   \n",
              "\n",
              "            Employment RemoteWork   Check  \\\n",
              "0  Employed, full-time     Remote  Apples   \n",
              "1  Employed, full-time     Remote  Apples   \n",
              "2  Employed, full-time     Remote  Apples   \n",
              "3   Student, full-time        NaN  Apples   \n",
              "4   Student, full-time        NaN  Apples   \n",
              "\n",
              "                                    CodingActivities  \\\n",
              "0                                              Hobby   \n",
              "1  Hobby;Contribute to open-source projects;Other...   \n",
              "2  Hobby;Contribute to open-source projects;Other...   \n",
              "3                                                NaN   \n",
              "4                                                NaN   \n",
              "\n",
              "                                             EdLevel  \\\n",
              "0                          Primary/elementary school   \n",
              "1       Bachelor’s degree (B.A., B.S., B.Eng., etc.)   \n",
              "2    Master’s degree (M.A., M.S., M.Eng., MBA, etc.)   \n",
              "3  Some college/university study without earning ...   \n",
              "4  Secondary school (e.g. American high school, G...   \n",
              "\n",
              "                                           LearnCode  \\\n",
              "0                             Books / Physical media   \n",
              "1  Books / Physical media;Colleague;On the job tr...   \n",
              "2  Books / Physical media;Colleague;On the job tr...   \n",
              "3  Other online resources (e.g., videos, blogs, f...   \n",
              "4  Other online resources (e.g., videos, blogs, f...   \n",
              "\n",
              "                                     LearnCodeOnline  ... JobSatPoints_6  \\\n",
              "0                                                NaN  ...            NaN   \n",
              "1  Technical documentation;Blogs;Books;Written Tu...  ...            0.0   \n",
              "2  Technical documentation;Blogs;Books;Written Tu...  ...            NaN   \n",
              "3  Stack Overflow;How-to videos;Interactive tutorial  ...            NaN   \n",
              "4  Technical documentation;Blogs;Written Tutorial...  ...            NaN   \n",
              "\n",
              "  JobSatPoints_7 JobSatPoints_8 JobSatPoints_9 JobSatPoints_10  \\\n",
              "0            NaN            NaN            NaN             NaN   \n",
              "1            0.0            0.0            0.0             0.0   \n",
              "2            NaN            NaN            NaN             NaN   \n",
              "3            NaN            NaN            NaN             NaN   \n",
              "4            NaN            NaN            NaN             NaN   \n",
              "\n",
              "  JobSatPoints_11           SurveyLength SurveyEase ConvertedCompYearly JobSat  \n",
              "0             NaN                    NaN        NaN                 NaN    NaN  \n",
              "1             0.0                    NaN        NaN                 NaN    NaN  \n",
              "2             NaN  Appropriate in length       Easy                 NaN    NaN  \n",
              "3             NaN               Too long       Easy                 NaN    NaN  \n",
              "4             NaN              Too short       Easy                 NaN    NaN  \n",
              "\n",
              "[5 rows x 114 columns]"
            ],
            "text/html": [
              "\n",
              "  <div id=\"df-4ab7ce9a-267e-4b09-a5c4-60a5dda740d3\" class=\"colab-df-container\">\n",
              "    <div>\n",
              "<style scoped>\n",
              "    .dataframe tbody tr th:only-of-type {\n",
              "        vertical-align: middle;\n",
              "    }\n",
              "\n",
              "    .dataframe tbody tr th {\n",
              "        vertical-align: top;\n",
              "    }\n",
              "\n",
              "    .dataframe thead th {\n",
              "        text-align: right;\n",
              "    }\n",
              "</style>\n",
              "<table border=\"1\" class=\"dataframe\">\n",
              "  <thead>\n",
              "    <tr style=\"text-align: right;\">\n",
              "      <th></th>\n",
              "      <th>ResponseId</th>\n",
              "      <th>MainBranch</th>\n",
              "      <th>Age</th>\n",
              "      <th>Employment</th>\n",
              "      <th>RemoteWork</th>\n",
              "      <th>Check</th>\n",
              "      <th>CodingActivities</th>\n",
              "      <th>EdLevel</th>\n",
              "      <th>LearnCode</th>\n",
              "      <th>LearnCodeOnline</th>\n",
              "      <th>...</th>\n",
              "      <th>JobSatPoints_6</th>\n",
              "      <th>JobSatPoints_7</th>\n",
              "      <th>JobSatPoints_8</th>\n",
              "      <th>JobSatPoints_9</th>\n",
              "      <th>JobSatPoints_10</th>\n",
              "      <th>JobSatPoints_11</th>\n",
              "      <th>SurveyLength</th>\n",
              "      <th>SurveyEase</th>\n",
              "      <th>ConvertedCompYearly</th>\n",
              "      <th>JobSat</th>\n",
              "    </tr>\n",
              "  </thead>\n",
              "  <tbody>\n",
              "    <tr>\n",
              "      <th>0</th>\n",
              "      <td>1</td>\n",
              "      <td>I am a developer by profession</td>\n",
              "      <td>Under 18 years old</td>\n",
              "      <td>Employed, full-time</td>\n",
              "      <td>Remote</td>\n",
              "      <td>Apples</td>\n",
              "      <td>Hobby</td>\n",
              "      <td>Primary/elementary school</td>\n",
              "      <td>Books / Physical media</td>\n",
              "      <td>NaN</td>\n",
              "      <td>...</td>\n",
              "      <td>NaN</td>\n",
              "      <td>NaN</td>\n",
              "      <td>NaN</td>\n",
              "      <td>NaN</td>\n",
              "      <td>NaN</td>\n",
              "      <td>NaN</td>\n",
              "      <td>NaN</td>\n",
              "      <td>NaN</td>\n",
              "      <td>NaN</td>\n",
              "      <td>NaN</td>\n",
              "    </tr>\n",
              "    <tr>\n",
              "      <th>1</th>\n",
              "      <td>2</td>\n",
              "      <td>I am a developer by profession</td>\n",
              "      <td>35-44 years old</td>\n",
              "      <td>Employed, full-time</td>\n",
              "      <td>Remote</td>\n",
              "      <td>Apples</td>\n",
              "      <td>Hobby;Contribute to open-source projects;Other...</td>\n",
              "      <td>Bachelor’s degree (B.A., B.S., B.Eng., etc.)</td>\n",
              "      <td>Books / Physical media;Colleague;On the job tr...</td>\n",
              "      <td>Technical documentation;Blogs;Books;Written Tu...</td>\n",
              "      <td>...</td>\n",
              "      <td>0.0</td>\n",
              "      <td>0.0</td>\n",
              "      <td>0.0</td>\n",
              "      <td>0.0</td>\n",
              "      <td>0.0</td>\n",
              "      <td>0.0</td>\n",
              "      <td>NaN</td>\n",
              "      <td>NaN</td>\n",
              "      <td>NaN</td>\n",
              "      <td>NaN</td>\n",
              "    </tr>\n",
              "    <tr>\n",
              "      <th>2</th>\n",
              "      <td>3</td>\n",
              "      <td>I am a developer by profession</td>\n",
              "      <td>45-54 years old</td>\n",
              "      <td>Employed, full-time</td>\n",
              "      <td>Remote</td>\n",
              "      <td>Apples</td>\n",
              "      <td>Hobby;Contribute to open-source projects;Other...</td>\n",
              "      <td>Master’s degree (M.A., M.S., M.Eng., MBA, etc.)</td>\n",
              "      <td>Books / Physical media;Colleague;On the job tr...</td>\n",
              "      <td>Technical documentation;Blogs;Books;Written Tu...</td>\n",
              "      <td>...</td>\n",
              "      <td>NaN</td>\n",
              "      <td>NaN</td>\n",
              "      <td>NaN</td>\n",
              "      <td>NaN</td>\n",
              "      <td>NaN</td>\n",
              "      <td>NaN</td>\n",
              "      <td>Appropriate in length</td>\n",
              "      <td>Easy</td>\n",
              "      <td>NaN</td>\n",
              "      <td>NaN</td>\n",
              "    </tr>\n",
              "    <tr>\n",
              "      <th>3</th>\n",
              "      <td>4</td>\n",
              "      <td>I am learning to code</td>\n",
              "      <td>18-24 years old</td>\n",
              "      <td>Student, full-time</td>\n",
              "      <td>NaN</td>\n",
              "      <td>Apples</td>\n",
              "      <td>NaN</td>\n",
              "      <td>Some college/university study without earning ...</td>\n",
              "      <td>Other online resources (e.g., videos, blogs, f...</td>\n",
              "      <td>Stack Overflow;How-to videos;Interactive tutorial</td>\n",
              "      <td>...</td>\n",
              "      <td>NaN</td>\n",
              "      <td>NaN</td>\n",
              "      <td>NaN</td>\n",
              "      <td>NaN</td>\n",
              "      <td>NaN</td>\n",
              "      <td>NaN</td>\n",
              "      <td>Too long</td>\n",
              "      <td>Easy</td>\n",
              "      <td>NaN</td>\n",
              "      <td>NaN</td>\n",
              "    </tr>\n",
              "    <tr>\n",
              "      <th>4</th>\n",
              "      <td>5</td>\n",
              "      <td>I am a developer by profession</td>\n",
              "      <td>18-24 years old</td>\n",
              "      <td>Student, full-time</td>\n",
              "      <td>NaN</td>\n",
              "      <td>Apples</td>\n",
              "      <td>NaN</td>\n",
              "      <td>Secondary school (e.g. American high school, G...</td>\n",
              "      <td>Other online resources (e.g., videos, blogs, f...</td>\n",
              "      <td>Technical documentation;Blogs;Written Tutorial...</td>\n",
              "      <td>...</td>\n",
              "      <td>NaN</td>\n",
              "      <td>NaN</td>\n",
              "      <td>NaN</td>\n",
              "      <td>NaN</td>\n",
              "      <td>NaN</td>\n",
              "      <td>NaN</td>\n",
              "      <td>Too short</td>\n",
              "      <td>Easy</td>\n",
              "      <td>NaN</td>\n",
              "      <td>NaN</td>\n",
              "    </tr>\n",
              "  </tbody>\n",
              "</table>\n",
              "<p>5 rows × 114 columns</p>\n",
              "</div>\n",
              "    <div class=\"colab-df-buttons\">\n",
              "\n",
              "  <div class=\"colab-df-container\">\n",
              "    <button class=\"colab-df-convert\" onclick=\"convertToInteractive('df-4ab7ce9a-267e-4b09-a5c4-60a5dda740d3')\"\n",
              "            title=\"Convert this dataframe to an interactive table.\"\n",
              "            style=\"display:none;\">\n",
              "\n",
              "  <svg xmlns=\"http://www.w3.org/2000/svg\" height=\"24px\" viewBox=\"0 -960 960 960\">\n",
              "    <path d=\"M120-120v-720h720v720H120Zm60-500h600v-160H180v160Zm220 220h160v-160H400v160Zm0 220h160v-160H400v160ZM180-400h160v-160H180v160Zm440 0h160v-160H620v160ZM180-180h160v-160H180v160Zm440 0h160v-160H620v160Z\"/>\n",
              "  </svg>\n",
              "    </button>\n",
              "\n",
              "  <style>\n",
              "    .colab-df-container {\n",
              "      display:flex;\n",
              "      gap: 12px;\n",
              "    }\n",
              "\n",
              "    .colab-df-convert {\n",
              "      background-color: #E8F0FE;\n",
              "      border: none;\n",
              "      border-radius: 50%;\n",
              "      cursor: pointer;\n",
              "      display: none;\n",
              "      fill: #1967D2;\n",
              "      height: 32px;\n",
              "      padding: 0 0 0 0;\n",
              "      width: 32px;\n",
              "    }\n",
              "\n",
              "    .colab-df-convert:hover {\n",
              "      background-color: #E2EBFA;\n",
              "      box-shadow: 0px 1px 2px rgba(60, 64, 67, 0.3), 0px 1px 3px 1px rgba(60, 64, 67, 0.15);\n",
              "      fill: #174EA6;\n",
              "    }\n",
              "\n",
              "    .colab-df-buttons div {\n",
              "      margin-bottom: 4px;\n",
              "    }\n",
              "\n",
              "    [theme=dark] .colab-df-convert {\n",
              "      background-color: #3B4455;\n",
              "      fill: #D2E3FC;\n",
              "    }\n",
              "\n",
              "    [theme=dark] .colab-df-convert:hover {\n",
              "      background-color: #434B5C;\n",
              "      box-shadow: 0px 1px 3px 1px rgba(0, 0, 0, 0.15);\n",
              "      filter: drop-shadow(0px 1px 2px rgba(0, 0, 0, 0.3));\n",
              "      fill: #FFFFFF;\n",
              "    }\n",
              "  </style>\n",
              "\n",
              "    <script>\n",
              "      const buttonEl =\n",
              "        document.querySelector('#df-4ab7ce9a-267e-4b09-a5c4-60a5dda740d3 button.colab-df-convert');\n",
              "      buttonEl.style.display =\n",
              "        google.colab.kernel.accessAllowed ? 'block' : 'none';\n",
              "\n",
              "      async function convertToInteractive(key) {\n",
              "        const element = document.querySelector('#df-4ab7ce9a-267e-4b09-a5c4-60a5dda740d3');\n",
              "        const dataTable =\n",
              "          await google.colab.kernel.invokeFunction('convertToInteractive',\n",
              "                                                    [key], {});\n",
              "        if (!dataTable) return;\n",
              "\n",
              "        const docLinkHtml = 'Like what you see? Visit the ' +\n",
              "          '<a target=\"_blank\" href=https://colab.research.google.com/notebooks/data_table.ipynb>data table notebook</a>'\n",
              "          + ' to learn more about interactive tables.';\n",
              "        element.innerHTML = '';\n",
              "        dataTable['output_type'] = 'display_data';\n",
              "        await google.colab.output.renderOutput(dataTable, element);\n",
              "        const docLink = document.createElement('div');\n",
              "        docLink.innerHTML = docLinkHtml;\n",
              "        element.appendChild(docLink);\n",
              "      }\n",
              "    </script>\n",
              "  </div>\n",
              "\n",
              "\n",
              "<div id=\"df-d81b3cd6-76ab-47ff-ba46-8d7803a9633c\">\n",
              "  <button class=\"colab-df-quickchart\" onclick=\"quickchart('df-d81b3cd6-76ab-47ff-ba46-8d7803a9633c')\"\n",
              "            title=\"Suggest charts\"\n",
              "            style=\"display:none;\">\n",
              "\n",
              "<svg xmlns=\"http://www.w3.org/2000/svg\" height=\"24px\"viewBox=\"0 0 24 24\"\n",
              "     width=\"24px\">\n",
              "    <g>\n",
              "        <path d=\"M19 3H5c-1.1 0-2 .9-2 2v14c0 1.1.9 2 2 2h14c1.1 0 2-.9 2-2V5c0-1.1-.9-2-2-2zM9 17H7v-7h2v7zm4 0h-2V7h2v10zm4 0h-2v-4h2v4z\"/>\n",
              "    </g>\n",
              "</svg>\n",
              "  </button>\n",
              "\n",
              "<style>\n",
              "  .colab-df-quickchart {\n",
              "      --bg-color: #E8F0FE;\n",
              "      --fill-color: #1967D2;\n",
              "      --hover-bg-color: #E2EBFA;\n",
              "      --hover-fill-color: #174EA6;\n",
              "      --disabled-fill-color: #AAA;\n",
              "      --disabled-bg-color: #DDD;\n",
              "  }\n",
              "\n",
              "  [theme=dark] .colab-df-quickchart {\n",
              "      --bg-color: #3B4455;\n",
              "      --fill-color: #D2E3FC;\n",
              "      --hover-bg-color: #434B5C;\n",
              "      --hover-fill-color: #FFFFFF;\n",
              "      --disabled-bg-color: #3B4455;\n",
              "      --disabled-fill-color: #666;\n",
              "  }\n",
              "\n",
              "  .colab-df-quickchart {\n",
              "    background-color: var(--bg-color);\n",
              "    border: none;\n",
              "    border-radius: 50%;\n",
              "    cursor: pointer;\n",
              "    display: none;\n",
              "    fill: var(--fill-color);\n",
              "    height: 32px;\n",
              "    padding: 0;\n",
              "    width: 32px;\n",
              "  }\n",
              "\n",
              "  .colab-df-quickchart:hover {\n",
              "    background-color: var(--hover-bg-color);\n",
              "    box-shadow: 0 1px 2px rgba(60, 64, 67, 0.3), 0 1px 3px 1px rgba(60, 64, 67, 0.15);\n",
              "    fill: var(--button-hover-fill-color);\n",
              "  }\n",
              "\n",
              "  .colab-df-quickchart-complete:disabled,\n",
              "  .colab-df-quickchart-complete:disabled:hover {\n",
              "    background-color: var(--disabled-bg-color);\n",
              "    fill: var(--disabled-fill-color);\n",
              "    box-shadow: none;\n",
              "  }\n",
              "\n",
              "  .colab-df-spinner {\n",
              "    border: 2px solid var(--fill-color);\n",
              "    border-color: transparent;\n",
              "    border-bottom-color: var(--fill-color);\n",
              "    animation:\n",
              "      spin 1s steps(1) infinite;\n",
              "  }\n",
              "\n",
              "  @keyframes spin {\n",
              "    0% {\n",
              "      border-color: transparent;\n",
              "      border-bottom-color: var(--fill-color);\n",
              "      border-left-color: var(--fill-color);\n",
              "    }\n",
              "    20% {\n",
              "      border-color: transparent;\n",
              "      border-left-color: var(--fill-color);\n",
              "      border-top-color: var(--fill-color);\n",
              "    }\n",
              "    30% {\n",
              "      border-color: transparent;\n",
              "      border-left-color: var(--fill-color);\n",
              "      border-top-color: var(--fill-color);\n",
              "      border-right-color: var(--fill-color);\n",
              "    }\n",
              "    40% {\n",
              "      border-color: transparent;\n",
              "      border-right-color: var(--fill-color);\n",
              "      border-top-color: var(--fill-color);\n",
              "    }\n",
              "    60% {\n",
              "      border-color: transparent;\n",
              "      border-right-color: var(--fill-color);\n",
              "    }\n",
              "    80% {\n",
              "      border-color: transparent;\n",
              "      border-right-color: var(--fill-color);\n",
              "      border-bottom-color: var(--fill-color);\n",
              "    }\n",
              "    90% {\n",
              "      border-color: transparent;\n",
              "      border-bottom-color: var(--fill-color);\n",
              "    }\n",
              "  }\n",
              "</style>\n",
              "\n",
              "  <script>\n",
              "    async function quickchart(key) {\n",
              "      const quickchartButtonEl =\n",
              "        document.querySelector('#' + key + ' button');\n",
              "      quickchartButtonEl.disabled = true;  // To prevent multiple clicks.\n",
              "      quickchartButtonEl.classList.add('colab-df-spinner');\n",
              "      try {\n",
              "        const charts = await google.colab.kernel.invokeFunction(\n",
              "            'suggestCharts', [key], {});\n",
              "      } catch (error) {\n",
              "        console.error('Error during call to suggestCharts:', error);\n",
              "      }\n",
              "      quickchartButtonEl.classList.remove('colab-df-spinner');\n",
              "      quickchartButtonEl.classList.add('colab-df-quickchart-complete');\n",
              "    }\n",
              "    (() => {\n",
              "      let quickchartButtonEl =\n",
              "        document.querySelector('#df-d81b3cd6-76ab-47ff-ba46-8d7803a9633c button');\n",
              "      quickchartButtonEl.style.display =\n",
              "        google.colab.kernel.accessAllowed ? 'block' : 'none';\n",
              "    })();\n",
              "  </script>\n",
              "</div>\n",
              "\n",
              "    </div>\n",
              "  </div>\n"
            ],
            "application/vnd.google.colaboratory.intrinsic+json": {
              "type": "dataframe",
              "variable_name": "df"
            }
          },
          "metadata": {},
          "execution_count": 9
        }
      ],
      "source": [
        "df.head()"
      ],
      "execution_count": 9
    },
    {
      "cell_type": "markdown",
      "metadata": {
        "id": "08cefe1d-ebd0-4b75-8c31-41165bd70ee6"
      },
      "source": [
        "**Note: If you are working on a local Jupyter environment, you can use the URL directly in the <code>pandas.read_csv()</code>  function as shown below:**\n",
        "\n"
      ]
    },
    {
      "cell_type": "markdown",
      "metadata": {
        "id": "1055e943-8523-48d6-a9e8-528f712a6fba"
      },
      "source": [
        "##### df = pd.read_csv(\"https://cf-courses-data.s3.us.cloud-object-storage.appdomain.cloud/n01PQ9pSmiRX6520flujwQ/survey-data.csv\")\n"
      ]
    },
    {
      "cell_type": "markdown",
      "metadata": {
        "id": "7ac2e82f-3e0b-4c5d-94d2-b3a45953d0b3"
      },
      "source": [
        "### Step 3: Identifying Duplicate Rows\n"
      ]
    },
    {
      "cell_type": "markdown",
      "metadata": {
        "id": "c07e51cf-5025-449d-8502-2253e1f5705b"
      },
      "source": [
        "**Task 1: Identify Duplicate Rows**\n",
        "  1. Count the number of duplicate rows in the dataset.\n",
        "  2. Display the first few duplicate rows to understand their structure.\n"
      ]
    },
    {
      "cell_type": "code",
      "metadata": {
        "id": "829ae242-52c6-43ff-8aa3-a4b9dde8f8d0"
      },
      "outputs": [],
      "source": [
        "# your code goes here\n",
        "# Count duplicate rows\n",
        "duplicate_rows = df[df.duplicated()]\n",
        "num_duplicates = len(duplicate_rows)\n",
        "print(f\"Number of duplicate rows: {num_duplicates}\")\n",
        "\n",
        "# Display the first few duplicate rows\n",
        "print(\"\\nFirst few duplicate rows:\")\n",
        "print(duplicate_rows.head())"
      ],
      "execution_count": null
    },
    {
      "cell_type": "markdown",
      "metadata": {
        "id": "4eabe8f9-8d48-406e-9364-9385cc2e93dd"
      },
      "source": [
        "### Step 4: Removing Duplicate Rows\n"
      ]
    },
    {
      "cell_type": "markdown",
      "metadata": {
        "id": "2a612ce2-e214-468d-863c-319889bd7f03"
      },
      "source": [
        "**Task 2: Remove Duplicates**\n",
        "   1. Remove duplicate rows from the dataset using the drop_duplicates() function.\n",
        "2. Verify the removal by counting the number of duplicate rows after removal .\n"
      ]
    },
    {
      "cell_type": "code",
      "metadata": {
        "colab": {
          "base_uri": "https://localhost:8080/"
        },
        "id": "c7baa7d9-53e8-4237-bfcd-e3228c92aae4",
        "outputId": "954307f0-19c4-478c-8e2d-c759e75ffff6"
      },
      "outputs": [
        {
          "output_type": "stream",
          "name": "stdout",
          "text": [
            "\n",
            "Number of duplicate rows after removal: 0\n"
          ]
        }
      ],
      "source": [
        "# Remove duplicate rows\n",
        "df_no_duplicates = df.drop_duplicates()\n",
        "\n",
        "# Verify removal\n",
        "duplicate_rows_after_removal = df_no_duplicates[df_no_duplicates.duplicated()]\n",
        "num_duplicates_after_removal = len(duplicate_rows_after_removal)\n",
        "\n",
        "print(f\"\\nNumber of duplicate rows after removal: {num_duplicates_after_removal}\")"
      ],
      "execution_count": 12
    },
    {
      "cell_type": "markdown",
      "metadata": {
        "id": "be06f8d7-a07a-489e-a5bd-c4b84e8c5f7c"
      },
      "source": [
        "### Step 5: Handling Missing Values\n"
      ]
    },
    {
      "cell_type": "markdown",
      "metadata": {
        "id": "cc9ad921-45a0-492c-b52e-062204402a25"
      },
      "source": [
        "**Task 3: Identify and Handle Missing Values**\n",
        "   1. Identify missing values for all columns in the dataset.\n",
        "   2. Choose a column with significant missing values (e.g., EdLevel) and impute with the most frequent value.\n"
      ]
    },
    {
      "cell_type": "code",
      "metadata": {
        "colab": {
          "base_uri": "https://localhost:8080/"
        },
        "id": "ae28feab-86b7-4202-bb6f-e92c926eb99d",
        "outputId": "90578054-cb00-45dc-c9e5-f0f0794f9085"
      },
      "outputs": [
        {
          "output_type": "stream",
          "name": "stdout",
          "text": [
            "Missing Values:\n",
            "ResponseId                 0\n",
            "MainBranch                 0\n",
            "Age                        0\n",
            "Employment                 0\n",
            "RemoteWork             10631\n",
            "                       ...  \n",
            "JobSatPoints_11        35992\n",
            "SurveyLength            9255\n",
            "SurveyEase              9199\n",
            "ConvertedCompYearly    42002\n",
            "JobSat                 36311\n",
            "Length: 114, dtype: int64\n"
          ]
        }
      ],
      "source": [
        "# your code goes here\n",
        "# Identify missing values\n",
        "missing_values = df.isnull().sum()\n",
        "print(\"Missing Values:\")\n",
        "print(missing_values)"
      ],
      "execution_count": 13
    },
    {
      "cell_type": "markdown",
      "metadata": {
        "id": "86335c8e-529d-4a63-82f6-96e222f07a1e"
      },
      "source": [
        "### Step 6: Normalizing Compensation Data\n"
      ]
    },
    {
      "cell_type": "markdown",
      "metadata": {
        "id": "404a5e09-d680-49b6-ae78-6e41274d56dc"
      },
      "source": [
        "**Task 4: Normalize Compensation Data Using ConvertedCompYearly**\n",
        "   1. Use the ConvertedCompYearly column for compensation analysis as the normalized annual compensation is already provided.\n",
        "   2. Check for missing values in ConvertedCompYearly and handle them if necessary.\n"
      ]
    },
    {
      "cell_type": "code",
      "metadata": {
        "colab": {
          "base_uri": "https://localhost:8080/"
        },
        "id": "dfafd49c-d4c5-4fc4-8266-ecad29e6480d",
        "outputId": "6b7f6fda-bef1-40fa-c143-bdb1351ed663"
      },
      "outputs": [
        {
          "output_type": "stream",
          "name": "stdout",
          "text": [
            "Number of missing values in ConvertedCompYearly: 42002\n"
          ]
        }
      ],
      "source": [
        "# your code goes here\n",
        "# Check for missing values in ConvertedCompYearly\n",
        "missing_converted_comp = df['ConvertedCompYearly'].isnull().sum()\n",
        "print(f\"Number of missing values in ConvertedCompYearly: {missing_converted_comp}\")\n",
        "\n",
        "# Handle missing values (if any)"
      ],
      "execution_count": 14
    }
  ],
  "metadata": {
    "kernelspec": {
      "name": "python",
      "display_name": "Python (Pyodide)",
      "language": "python"
    },
    "language_info": {
      "codemirror_mode": {
        "name": "python",
        "version": 3
      },
      "file_extension": ".py",
      "mimetype": "text/x-python",
      "name": "python",
      "nbconvert_exporter": "python",
      "pygments_lexer": "ipython3",
      "version": "3.8"
    },
    "prev_pub_hash": "f78dd679c054b4b4ba83764fae76e380612ff2780b7f9452119e6c3f45824b5a",
    "colab": {
      "provenance": [],
      "include_colab_link": true
    }
  },
  "nbformat": 4,
  "nbformat_minor": 0
}