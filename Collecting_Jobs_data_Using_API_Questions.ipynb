{
  "cells": [
    {
      "cell_type": "markdown",
      "metadata": {
        "id": "view-in-github",
        "colab_type": "text"
      },
      "source": [
        "<a href=\"https://colab.research.google.com/github/sallanmarvin/Hands_On/blob/main/Collecting_Jobs_data_Using_API_Questions.ipynb\" target=\"_parent\"><img src=\"https://colab.research.google.com/assets/colab-badge.svg\" alt=\"Open In Colab\"/></a>"
      ]
    },
    {
      "cell_type": "markdown",
      "metadata": {
        "id": "1vlkYXJHlBfM"
      },
      "source": [
        "Using an API, let us find out who currently are on the International Space Station (ISS).<br> The API at [http://api.open-notify.org/astros.json](http://api.open-notify.org/astros.json?utm_medium=Exinfluencer&utm_source=Exinfluencer&utm_content=000026UJ&utm_term=10006555&utm_id=NA-SkillsNetwork-Channel-SkillsNetworkCoursesIBMDA0321ENSkillsNetwork21426264-2021-01-01&cm_mmc=Email_Newsletter-_-Developer_Ed%2BTech-_-WW_WW-_-SkillsNetwork-Courses-IBM-DA0321EN-SkillsNetwork-21426264&cm_mmca1=000026UJ&cm_mmca2=10006555&cm_mmca3=M12345678&cvosrc=email.Newsletter.M12345678&cvo_campaign=000026UJ) gives us the information of astronauts currently on ISS in json format.<br>\n",
        "You can read more about this API at [http://open-notify.org/Open-Notify-API/People-In-Space/](http://open-notify.org/Open-Notify-API/People-In-Space?utm_medium=Exinfluencer&utm_source=Exinfluencer&utm_content=000026UJ&utm_term=10006555&utm_id=NA-SkillsNetwork-Channel-SkillsNetworkCoursesIBMDA0321ENSkillsNetwork21426264-2021-01-01&cm_mmc=Email_Newsletter-_-Developer_Ed%2BTech-_-WW_WW-_-SkillsNetwork-Courses-IBM-DA0321EN-SkillsNetwork-21426264&cm_mmca1=000026UJ&cm_mmca2=10006555&cm_mmca3=M12345678&cvosrc=email.Newsletter.M12345678&cvo_campaign=000026UJ)\n"
      ]
    },
    {
      "cell_type": "code",
      "execution_count": 1,
      "metadata": {
        "id": "5NAwcfXzlBfM"
      },
      "outputs": [],
      "source": [
        "import requests # you need this module to make an API call\n",
        "import pandas as pd"
      ]
    },
    {
      "cell_type": "code",
      "execution_count": 3,
      "metadata": {
        "id": "MScrfkSnlBfN"
      },
      "outputs": [],
      "source": [
        "api_url = \"http://api.open-notify.org/astros.json\" # this url gives use the astronaut data"
      ]
    },
    {
      "cell_type": "code",
      "execution_count": 4,
      "metadata": {
        "id": "QBT-VbsdlBfN"
      },
      "outputs": [],
      "source": [
        "response = requests.get(api_url) # Call the API using the get method and store the\n",
        "                                # output of the API call in a variable called response."
      ]
    },
    {
      "cell_type": "code",
      "execution_count": 5,
      "metadata": {
        "id": "InM-taadlBfN"
      },
      "outputs": [],
      "source": [
        "if response.ok:             #if all is well() no errors, no network timeouts)\n",
        "    data = response.json()  #store the result in json format in a variable called data\n",
        "                            #the variable data is of type dictionary."
      ]
    },
    {
      "cell_type": "code",
      "execution_count": null,
      "metadata": {
        "id": "71fltl6UlBfN"
      },
      "outputs": [],
      "source": []
    },
    {
      "cell_type": "code",
      "execution_count": 6,
      "metadata": {
        "colab": {
          "base_uri": "https://localhost:8080/"
        },
        "id": "rGdiaFbGlBfO",
        "outputId": "e7fe4f5c-16e0-45c4-cbe0-6e0dda0db0d9"
      },
      "outputs": [
        {
          "output_type": "stream",
          "name": "stdout",
          "text": [
            "{'people': [{'craft': 'ISS', 'name': 'Oleg Kononenko'}, {'craft': 'ISS', 'name': 'Nikolai Chub'}, {'craft': 'ISS', 'name': 'Tracy Caldwell Dyson'}, {'craft': 'ISS', 'name': 'Matthew Dominick'}, {'craft': 'ISS', 'name': 'Michael Barratt'}, {'craft': 'ISS', 'name': 'Jeanette Epps'}, {'craft': 'ISS', 'name': 'Alexander Grebenkin'}, {'craft': 'ISS', 'name': 'Butch Wilmore'}, {'craft': 'ISS', 'name': 'Sunita Williams'}, {'craft': 'Tiangong', 'name': 'Li Guangsu'}, {'craft': 'Tiangong', 'name': 'Li Cong'}, {'craft': 'Tiangong', 'name': 'Ye Guangfu'}], 'number': 12, 'message': 'success'}\n"
          ]
        }
      ],
      "source": [
        "print(data)   # print the data just to check the output or for debugging"
      ]
    },
    {
      "cell_type": "markdown",
      "metadata": {
        "id": "T3q5F1PGlBfO"
      },
      "source": [
        "Print the number of astronauts currently on ISS.\n"
      ]
    },
    {
      "cell_type": "code",
      "execution_count": 7,
      "metadata": {
        "colab": {
          "base_uri": "https://localhost:8080/"
        },
        "id": "FW-u-41glBfO",
        "outputId": "a62141bd-c949-4864-9df7-cd22cfcbc197"
      },
      "outputs": [
        {
          "output_type": "stream",
          "name": "stdout",
          "text": [
            "12\n"
          ]
        }
      ],
      "source": [
        "print(data.get('number'))"
      ]
    },
    {
      "cell_type": "markdown",
      "metadata": {
        "id": "oIl2AioplBfO"
      },
      "source": [
        "Print the names of the astronauts currently on ISS.\n"
      ]
    },
    {
      "cell_type": "code",
      "execution_count": 8,
      "metadata": {
        "colab": {
          "base_uri": "https://localhost:8080/"
        },
        "id": "OX0NoSjllBfO",
        "outputId": "2bc3055b-cd6c-4ca1-c2ac-43c7d3d8e064"
      },
      "outputs": [
        {
          "output_type": "stream",
          "name": "stdout",
          "text": [
            "There are 12 astronauts on ISS\n",
            "And their names are :\n",
            "Oleg Kononenko\n",
            "Nikolai Chub\n",
            "Tracy Caldwell Dyson\n",
            "Matthew Dominick\n",
            "Michael Barratt\n",
            "Jeanette Epps\n",
            "Alexander Grebenkin\n",
            "Butch Wilmore\n",
            "Sunita Williams\n",
            "Li Guangsu\n",
            "Li Cong\n",
            "Ye Guangfu\n"
          ]
        }
      ],
      "source": [
        "astronauts = data.get('people')\n",
        "print(\"There are {} astronauts on ISS\".format(len(astronauts)))\n",
        "print(\"And their names are :\")\n",
        "for astronaut in astronauts:\n",
        "    print(astronaut.get('name'))"
      ]
    },
    {
      "cell_type": "markdown",
      "metadata": {
        "id": "JiWTE6FXlBfO"
      },
      "source": [
        "Hope the warmup was helpful. Good luck with your next lab!\n"
      ]
    },
    {
      "cell_type": "markdown",
      "metadata": {
        "id": "l6-1ji-rlBfP"
      },
      "source": [
        "## Lab: Collect Jobs Data using Jobs API\n"
      ]
    },
    {
      "cell_type": "markdown",
      "metadata": {
        "id": "0aN4c_BylBfP"
      },
      "source": [
        "### Objective: Determine the number of jobs currently open for various technologies  and for various locations\n"
      ]
    },
    {
      "cell_type": "markdown",
      "metadata": {
        "id": "lJlllZuclBfP"
      },
      "source": [
        "Collect the number of job postings for the following locations using the API:\n",
        "\n",
        "* Los Angeles\n",
        "* New York\n",
        "* San Francisco\n",
        "* Washington DC\n",
        "* Seattle\n",
        "* Austin\n",
        "* Detroit\n"
      ]
    },
    {
      "cell_type": "code",
      "execution_count": 9,
      "metadata": {
        "id": "GNVMGSsLlBfP"
      },
      "outputs": [],
      "source": [
        "#Import required libraries\n",
        "import pandas as pd\n",
        "import json"
      ]
    },
    {
      "cell_type": "markdown",
      "metadata": {
        "id": "QRFn4XNIlBfP"
      },
      "source": [
        "#### Write a function to get the number of jobs for the Python technology.<br>\n",
        "> Note: While using the lab you need to pass the **payload** information for the **params** attribute in the form of **key** **value** pairs.\n",
        "  Refer the ungraded **rest api lab** in the course **Python for Data Science, AI & Development**  <a href=\"https://www.coursera.org/learn/python-for-applied-data-science-ai/ungradedLti/P6sW8/hands-on-lab-access-rest-apis-request-http?utm_medium=Exinfluencer&utm_source=Exinfluencer&utm_content=000026UJ&utm_term=10006555&utm_id=NA-SkillsNetwork-Channel-SkillsNetworkCoursesIBMDA0321ENSkillsNetwork928-2022-01-01\">link</a>\n",
        "  \n",
        " ##### The keys in the json are\n",
        " * Job Title\n",
        "\n",
        " * Job Experience Required\n",
        "\n",
        " * Key Skills\n",
        "\n",
        " * Role Category\n",
        "\n",
        " * Location\n",
        "\n",
        " * Functional Area\n",
        "\n",
        " * Industry\n",
        "\n",
        " * Role\n",
        "\n",
        "You can also view  the json file contents  from the following <a href = \"https://cf-courses-data.s3.us.cloud-object-storage.appdomain.cloud/IBM-DA0321EN-SkillsNetwork/labs/module%201/Accessing%20Data%20Using%20APIs/jobs.json\">json</a> URL.\n"
      ]
    },
    {
      "cell_type": "code",
      "execution_count": 10,
      "metadata": {
        "id": "yJ33d5htlBfQ"
      },
      "outputs": [],
      "source": [
        "api_url=\"http://127.0.0.1:5000/data\"\n",
        "def get_number_of_jobs_T(technology):\n",
        "\n",
        "    #your code goes here\n",
        "    return technology,number_of_jobs"
      ]
    },
    {
      "cell_type": "markdown",
      "metadata": {
        "id": "dOXxeSDLlBfQ"
      },
      "source": [
        "Calling the function for Python and checking if it works.\n"
      ]
    },
    {
      "cell_type": "code",
      "execution_count": 12,
      "metadata": {
        "colab": {
          "base_uri": "https://localhost:8080/",
          "height": 263
        },
        "collapsed": true,
        "id": "kM8MsxHmlBfQ",
        "outputId": "f88205a1-ab95-4058-c869-775a6cd683a5"
      },
      "outputs": [
        {
          "output_type": "error",
          "ename": "NameError",
          "evalue": "name 'number_of_jobs' is not defined",
          "traceback": [
            "\u001b[0;31m---------------------------------------------------------------------------\u001b[0m",
            "\u001b[0;31mNameError\u001b[0m                                 Traceback (most recent call last)",
            "\u001b[0;32m<ipython-input-12-c5b7ee3b9a6e>\u001b[0m in \u001b[0;36m<cell line: 0>\u001b[0;34m()\u001b[0m\n\u001b[1;32m      1\u001b[0m \u001b[0;31m# Calling the function for Python and checking if it works.\u001b[0m\u001b[0;34m\u001b[0m\u001b[0;34m\u001b[0m\u001b[0m\n\u001b[0;32m----> 2\u001b[0;31m \u001b[0mtechnology\u001b[0m\u001b[0;34m,\u001b[0m \u001b[0mnumber_of_jobs\u001b[0m \u001b[0;34m=\u001b[0m \u001b[0mget_number_of_jobs_T\u001b[0m\u001b[0;34m(\u001b[0m\u001b[0;34m\"Python\"\u001b[0m\u001b[0;34m)\u001b[0m\u001b[0;34m\u001b[0m\u001b[0;34m\u001b[0m\u001b[0m\n\u001b[0m\u001b[1;32m      3\u001b[0m \u001b[0mprint\u001b[0m\u001b[0;34m(\u001b[0m\u001b[0;34mf\"Number of jobs for {technology}: {number_of_jobs}\"\u001b[0m\u001b[0;34m)\u001b[0m\u001b[0;34m\u001b[0m\u001b[0;34m\u001b[0m\u001b[0m\n",
            "\u001b[0;32m<ipython-input-10-3d4de08ba3c6>\u001b[0m in \u001b[0;36mget_number_of_jobs_T\u001b[0;34m(technology)\u001b[0m\n\u001b[1;32m      3\u001b[0m \u001b[0;34m\u001b[0m\u001b[0m\n\u001b[1;32m      4\u001b[0m     \u001b[0;31m#your code goes here\u001b[0m\u001b[0;34m\u001b[0m\u001b[0;34m\u001b[0m\u001b[0m\n\u001b[0;32m----> 5\u001b[0;31m     \u001b[0;32mreturn\u001b[0m \u001b[0mtechnology\u001b[0m\u001b[0;34m,\u001b[0m\u001b[0mnumber_of_jobs\u001b[0m\u001b[0;34m\u001b[0m\u001b[0;34m\u001b[0m\u001b[0m\n\u001b[0m",
            "\u001b[0;31mNameError\u001b[0m: name 'number_of_jobs' is not defined"
          ]
        }
      ],
      "source": [
        "get_number_of_jobs_T(\"Python\")"
      ]
    },
    {
      "cell_type": "markdown",
      "metadata": {
        "id": "As-2YhnNlBfR"
      },
      "source": [
        "#### Write a function to find number of jobs in US for a location of your choice\n"
      ]
    },
    {
      "cell_type": "code",
      "source": [
        "\n",
        "def get_number_of_jobs_L(location):\n",
        "    #your code goes here\n",
        "    number_of_jobs = 0 # Initialize the number of jobs to 0\n",
        "    try:\n",
        "        # Assuming the API endpoint and parameters are correct.\n",
        "        # Replace with your actual API call if necessary\n",
        "        api_url = \"http://127.0.0.1:5000/data\"  # Example URL, replace with actual API endpoint\n",
        "        params = {'Location': location} # location as a parameter\n",
        "\n",
        "        response = requests.get(api_url, params=params)  # Make the API call\n",
        "        response.raise_for_status() # Raise HTTPError for bad responses (4xx or 5xx)\n",
        "\n",
        "        data = response.json() # Parse the JSON response\n",
        "\n",
        "        if isinstance(data, list):\n",
        "          number_of_jobs = len(data) # Count the jobs in the list\n",
        "        elif isinstance(data, dict) and 'jobs' in data:\n",
        "          number_of_jobs = len(data['jobs'])\n",
        "        else:\n",
        "          print(f\"Unexpected API response format for {location}\")\n",
        "    except requests.exceptions.RequestException as e:\n",
        "        print(f\"Error fetching data for {location}: {e}\")\n",
        "    except (KeyError, TypeError) as e:\n",
        "        print(f\"Error processing data for {location}: {e}\")\n",
        "    except json.JSONDecodeError as e:\n",
        "        print(f\"Invalid JSON response for {location}: {e}\")\n",
        "\n",
        "    return location, number_of_jobs\n"
      ],
      "metadata": {
        "id": "cDJpf347rCya"
      },
      "execution_count": 15,
      "outputs": []
    },
    {
      "cell_type": "markdown",
      "metadata": {
        "id": "yqSpAnAdlBfR"
      },
      "source": [
        "Call the function for Los Angeles and check if it is working.\n",
        "\n",
        "\n"
      ]
    },
    {
      "cell_type": "code",
      "execution_count": 16,
      "metadata": {
        "colab": {
          "base_uri": "https://localhost:8080/"
        },
        "id": "Yk0pk0WzlBfR",
        "outputId": "efcfc6ba-1393-4719-c968-297da8de9932"
      },
      "outputs": [
        {
          "output_type": "stream",
          "name": "stdout",
          "text": [
            "Error fetching data for Los Angeles: HTTPConnectionPool(host='127.0.0.1', port=5000): Max retries exceeded with url: /data?Location=Los+Angeles (Caused by NewConnectionError('<urllib3.connection.HTTPConnection object at 0x7cc61679ef10>: Failed to establish a new connection: [Errno 111] Connection refused'))\n"
          ]
        },
        {
          "output_type": "execute_result",
          "data": {
            "text/plain": [
              "('Los Angeles', 0)"
            ]
          },
          "metadata": {},
          "execution_count": 16
        }
      ],
      "source": [
        "#your code goes here\n",
        "get_number_of_jobs_L(\"Los Angeles\")"
      ]
    },
    {
      "cell_type": "markdown",
      "metadata": {
        "id": "0DjBCbEdlBfR"
      },
      "source": [
        "### Store the results in an excel file\n"
      ]
    },
    {
      "cell_type": "markdown",
      "metadata": {
        "id": "NbCV-qeClBfS"
      },
      "source": [
        "Call the API for all the given technologies above and write the results in an excel spreadsheet.\n"
      ]
    },
    {
      "cell_type": "markdown",
      "metadata": {
        "id": "YTXHOVuDlBfS"
      },
      "source": [
        "If you do not know how create excel file using python, double click here for **hints**.\n",
        "\n",
        "<!--\n",
        "\n",
        "from openpyxl import Workbook        # import Workbook class from module openpyxl\n",
        "wb=Workbook()                        # create a workbook object\n",
        "ws=wb.active                         # use the active worksheet\n",
        "ws.append(['Country','Continent'])   # add a row with two columns 'Country' and 'Continent'\n",
        "ws.append(['Eygpt','Africa'])        # add a row with two columns 'Egypt' and 'Africa'\n",
        "ws.append(['India','Asia'])          # add another row\n",
        "ws.append(['France','Europe'])       # add another row\n",
        "wb.save(\"countries.xlsx\")            # save the workbook into a file called countries.xlsx\n",
        "\n",
        "\n",
        "-->\n"
      ]
    },
    {
      "cell_type": "markdown",
      "metadata": {
        "id": "nPu42LzIlBfS"
      },
      "source": [
        "Create a python list of all locations for which you need to find the number of jobs postings.\n"
      ]
    },
    {
      "cell_type": "code",
      "execution_count": 17,
      "metadata": {
        "colab": {
          "base_uri": "https://localhost:8080/"
        },
        "id": "9lbE6qHSlBfS",
        "outputId": "eb470c88-e61a-4204-9f84-309450dab9fb"
      },
      "outputs": [
        {
          "output_type": "stream",
          "name": "stdout",
          "text": [
            "Error fetching data for Los Angeles: HTTPConnectionPool(host='127.0.0.1', port=5000): Max retries exceeded with url: /data?Location=Los+Angeles (Caused by NewConnectionError('<urllib3.connection.HTTPConnection object at 0x7cc61600da50>: Failed to establish a new connection: [Errno 111] Connection refused'))\n",
            "Error fetching data for New York: HTTPConnectionPool(host='127.0.0.1', port=5000): Max retries exceeded with url: /data?Location=New+York (Caused by NewConnectionError('<urllib3.connection.HTTPConnection object at 0x7cc615d0c850>: Failed to establish a new connection: [Errno 111] Connection refused'))\n",
            "Error fetching data for San Francisco: HTTPConnectionPool(host='127.0.0.1', port=5000): Max retries exceeded with url: /data?Location=San+Francisco (Caused by NewConnectionError('<urllib3.connection.HTTPConnection object at 0x7cc6161d7d10>: Failed to establish a new connection: [Errno 111] Connection refused'))\n",
            "Error fetching data for Washington DC: HTTPConnectionPool(host='127.0.0.1', port=5000): Max retries exceeded with url: /data?Location=Washington+DC (Caused by NewConnectionError('<urllib3.connection.HTTPConnection object at 0x7cc615ea8c90>: Failed to establish a new connection: [Errno 111] Connection refused'))\n",
            "Error fetching data for Seattle: HTTPConnectionPool(host='127.0.0.1', port=5000): Max retries exceeded with url: /data?Location=Seattle (Caused by NewConnectionError('<urllib3.connection.HTTPConnection object at 0x7cc615d0ec90>: Failed to establish a new connection: [Errno 111] Connection refused'))\n",
            "Error fetching data for Austin: HTTPConnectionPool(host='127.0.0.1', port=5000): Max retries exceeded with url: /data?Location=Austin (Caused by NewConnectionError('<urllib3.connection.HTTPConnection object at 0x7cc615d04b10>: Failed to establish a new connection: [Errno 111] Connection refused'))\n",
            "Error fetching data for Detroit: HTTPConnectionPool(host='127.0.0.1', port=5000): Max retries exceeded with url: /data?Location=Detroit (Caused by NewConnectionError('<urllib3.connection.HTTPConnection object at 0x7cc615d06a10>: Failed to establish a new connection: [Errno 111] Connection refused'))\n"
          ]
        }
      ],
      "source": [
        "#your code goes here\n",
        "from openpyxl import Workbook\n",
        "\n",
        "locations = ['Los Angeles', 'New York', 'San Francisco', 'Washington DC', 'Seattle', 'Austin', 'Detroit']\n",
        "technologies = [\"Python\"] # Add more technologies here if needed.\n",
        "\n",
        "wb = Workbook()\n",
        "ws = wb.active\n",
        "ws.append(['Location', 'Technology', 'Number of Jobs'])\n",
        "\n",
        "for location in locations:\n",
        "    for technology in technologies:\n",
        "      if technology == \"Python\": # Placeholder for calling API for Python jobs\n",
        "        location, number_of_jobs = get_number_of_jobs_L(location)\n",
        "        ws.append([location, technology, number_of_jobs])\n",
        "      #else: # Add code here to call API for other technologies if needed.\n",
        "      #    location, number_of_jobs = get_number_of_jobs_T(technology)\n",
        "      #    ws.append([location, technology, number_of_jobs])\n",
        "\n",
        "wb.save(\"jobs_data.xlsx\")"
      ]
    },
    {
      "cell_type": "markdown",
      "metadata": {
        "id": "dJvVPs9MlBfS"
      },
      "source": [
        "Import libraries required to create excel spreadsheet\n"
      ]
    },
    {
      "cell_type": "code",
      "execution_count": 18,
      "metadata": {
        "colab": {
          "base_uri": "https://localhost:8080/"
        },
        "id": "ySv3RpDtlBfS",
        "outputId": "3cb678ba-fbb0-4b49-d420-3cb54aba4a59"
      },
      "outputs": [
        {
          "output_type": "stream",
          "name": "stdout",
          "text": [
            "Requirement already satisfied: openpyxl in /usr/local/lib/python3.11/dist-packages (3.1.5)\n",
            "Requirement already satisfied: et-xmlfile in /usr/local/lib/python3.11/dist-packages (from openpyxl) (2.0.0)\n"
          ]
        }
      ],
      "source": [
        "# your code goes here\n",
        "!pip install openpyxl"
      ]
    },
    {
      "cell_type": "markdown",
      "metadata": {
        "id": "RDNJkmUulBfT"
      },
      "source": [
        "Create a workbook and select the active worksheet\n"
      ]
    },
    {
      "cell_type": "code",
      "execution_count": 19,
      "metadata": {
        "id": "9BLZgDFplBfT"
      },
      "outputs": [],
      "source": [
        "# your code goes here\n",
        "from openpyxl import Workbook\n",
        "\n",
        "wb = Workbook()\n",
        "ws = wb.active"
      ]
    },
    {
      "cell_type": "markdown",
      "metadata": {
        "id": "MgzUMp9GlBfT"
      },
      "source": [
        "Find the number of jobs postings for each of the location in the above list.\n",
        "Write the Location name and the number of jobs postings into the excel spreadsheet.\n"
      ]
    },
    {
      "cell_type": "code",
      "execution_count": 21,
      "metadata": {
        "colab": {
          "base_uri": "https://localhost:8080/"
        },
        "id": "fA9qB6CblBfT",
        "outputId": "ba8fa913-779c-42a4-8d39-12315cb8b498"
      },
      "outputs": [
        {
          "output_type": "stream",
          "name": "stdout",
          "text": [
            "Error fetching data for Los Angeles: HTTPConnectionPool(host='127.0.0.1', port=5000): Max retries exceeded with url: /data?Location=Los+Angeles (Caused by NewConnectionError('<urllib3.connection.HTTPConnection object at 0x7cc615ff73d0>: Failed to establish a new connection: [Errno 111] Connection refused'))\n",
            "Error fetching data for New York: HTTPConnectionPool(host='127.0.0.1', port=5000): Max retries exceeded with url: /data?Location=New+York (Caused by NewConnectionError('<urllib3.connection.HTTPConnection object at 0x7cc6260eacd0>: Failed to establish a new connection: [Errno 111] Connection refused'))\n",
            "Error fetching data for San Francisco: HTTPConnectionPool(host='127.0.0.1', port=5000): Max retries exceeded with url: /data?Location=San+Francisco (Caused by NewConnectionError('<urllib3.connection.HTTPConnection object at 0x7cc6161da550>: Failed to establish a new connection: [Errno 111] Connection refused'))\n",
            "Error fetching data for Washington DC: HTTPConnectionPool(host='127.0.0.1', port=5000): Max retries exceeded with url: /data?Location=Washington+DC (Caused by NewConnectionError('<urllib3.connection.HTTPConnection object at 0x7cc615d1d710>: Failed to establish a new connection: [Errno 111] Connection refused'))\n",
            "Error fetching data for Seattle: HTTPConnectionPool(host='127.0.0.1', port=5000): Max retries exceeded with url: /data?Location=Seattle (Caused by NewConnectionError('<urllib3.connection.HTTPConnection object at 0x7cc615d24610>: Failed to establish a new connection: [Errno 111] Connection refused'))\n",
            "Error fetching data for Austin: HTTPConnectionPool(host='127.0.0.1', port=5000): Max retries exceeded with url: /data?Location=Austin (Caused by NewConnectionError('<urllib3.connection.HTTPConnection object at 0x7cc615d1d310>: Failed to establish a new connection: [Errno 111] Connection refused'))\n",
            "Error fetching data for Detroit: HTTPConnectionPool(host='127.0.0.1', port=5000): Max retries exceeded with url: /data?Location=Detroit (Caused by NewConnectionError('<urllib3.connection.HTTPConnection object at 0x7cc626928dd0>: Failed to establish a new connection: [Errno 111] Connection refused'))\n"
          ]
        }
      ],
      "source": [
        "#Location name and the number of jobs\n",
        "for location in locations:\n",
        "    location, number_of_jobs = get_number_of_jobs_L(location)\n",
        "    ws.append([location, number_of_jobs])\n",
        "\n",
        "wb.save(\"jobs_data.xlsx\")\n"
      ]
    },
    {
      "cell_type": "markdown",
      "metadata": {
        "id": "MEzl8QIclBfT"
      },
      "source": [
        "Save into an excel spreadsheet named 'job-postings.xlsx'.\n"
      ]
    },
    {
      "cell_type": "code",
      "execution_count": 24,
      "metadata": {
        "id": "mZ4dVtxFlBfU"
      },
      "outputs": [],
      "source": [
        "import requests\n",
        "import pandas as pd\n",
        "import json\n",
        "from openpyxl import Workbook\n",
        "\n",
        "\n",
        "# Save into an excel spreadsheet named 'job-postings.xlsx'.\n",
        "wb.save(\"job-postings.xlsx\")"
      ]
    },
    {
      "cell_type": "markdown",
      "metadata": {
        "id": "9w_uIYeOlBfU"
      },
      "source": [
        "#### In the similar way, you can try for below given technologies and results  can be stored in an excel sheet.\n"
      ]
    },
    {
      "cell_type": "markdown",
      "metadata": {
        "id": "ptJGd-avlBfU"
      },
      "source": [
        "Collect the number of job postings for the following languages using the API:\n",
        "\n",
        "*   C\n",
        "*   C#\n",
        "*   C++\n",
        "*   Java\n",
        "*   JavaScript\n",
        "*   Python\n",
        "*   Scala\n",
        "*   Oracle\n",
        "*   SQL Server\n",
        "*   MySQL Server\n",
        "*   PostgreSQL\n",
        "*   MongoDB\n"
      ]
    },
    {
      "cell_type": "code",
      "execution_count": 28,
      "metadata": {
        "collapsed": true,
        "id": "0dyaWShulBfU"
      },
      "outputs": [],
      "source": [
        "technologies = [\"C\", \"C#\", \"C++\", \"Java\", \"JavaScript\", \"Python\", \"Scala\", \"Oracle\", \"SQL Server\", \"MySQL Server\", \"PostgreSQL\", \"MongoDB\"]\n",
        "for technology in technologies:\n",
        "    technology, number_of_jobs = get_number_of_jobs_T(technology)  # Call the function for each technology\n",
        "    ws.append([technology, number_of_jobs])  # Append the results to the worksheet\n",
        "\n",
        "wb.save(\"job-postings.xlsx\")\n"
      ]
    }
  ],
  "metadata": {
    "kernelspec": {
      "display_name": "Python",
      "language": "python",
      "name": "conda-env-python-py"
    },
    "language_info": {
      "name": ""
    },
    "colab": {
      "provenance": [],
      "include_colab_link": true
    }
  },
  "nbformat": 4,
  "nbformat_minor": 0
}